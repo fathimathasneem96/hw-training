{
 "cells": [
  {
   "cell_type": "code",
   "execution_count": 1,
   "id": "8ad59815",
   "metadata": {},
   "outputs": [
    {
     "name": "stdout",
     "output_type": "stream",
     "text": [
      "CSV converted to JSON successfully.\n"
     ]
    }
   ],
   "source": [
    "import csv\n",
    "import json\n",
    "\n",
    "# Input and output file paths\n",
    "csv_file = 'sample_data.csv'\n",
    "json_file = 'data.json'\n",
    "\n",
    "# Read CSV and convert to list of dicts\n",
    "with open(csv_file, mode='r', newline='', encoding='utf-8') as f:\n",
    "    reader = csv.DictReader(f)\n",
    "    data = list(reader)\n",
    "\n",
    "# Write to JSON\n",
    "with open(json_file, mode='w', encoding='utf-8') as f:\n",
    "    json.dump(data, f, indent=2)\n",
    "\n",
    "print(\"CSV converted to JSON successfully.\")\n"
   ]
  },
  {
   "cell_type": "code",
   "execution_count": 2,
   "id": "6ebe0122",
   "metadata": {},
   "outputs": [
    {
     "name": "stdout",
     "output_type": "stream",
     "text": [
      "JSON converted to CSV successfully.\n"
     ]
    }
   ],
   "source": [
    "import json\n",
    "import csv\n",
    "\n",
    "# Input and output file paths\n",
    "json_file = 'data.json'\n",
    "csv_file = 'data.csv'\n",
    "\n",
    "# Read JSON data\n",
    "with open(json_file, mode='r', encoding='utf-8') as f:\n",
    "    data = json.load(f)\n",
    "\n",
    "# Write CSV\n",
    "with open(csv_file, mode='w', newline='', encoding='utf-8') as f:\n",
    "    writer = csv.DictWriter(f, fieldnames=data[0].keys())\n",
    "    writer.writeheader()\n",
    "    writer.writerows(data)\n",
    "\n",
    "print(\"JSON converted to CSV successfully.\")\n"
   ]
  },
  {
   "cell_type": "code",
   "execution_count": null,
   "id": "3beeb8ce",
   "metadata": {},
   "outputs": [],
   "source": []
  }
 ],
 "metadata": {
  "kernelspec": {
   "display_name": "Python 3 (ipykernel)",
   "language": "python",
   "name": "python3"
  },
  "language_info": {
   "codemirror_mode": {
    "name": "ipython",
    "version": 3
   },
   "file_extension": ".py",
   "mimetype": "text/x-python",
   "name": "python",
   "nbconvert_exporter": "python",
   "pygments_lexer": "ipython3",
   "version": "3.10.12"
  }
 },
 "nbformat": 4,
 "nbformat_minor": 5
}
